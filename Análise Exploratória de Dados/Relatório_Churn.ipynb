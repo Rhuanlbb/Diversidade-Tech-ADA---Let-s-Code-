{
  "nbformat": 4,
  "nbformat_minor": 0,
  "metadata": {
    "colab": {
      "provenance": []
    },
    "kernelspec": {
      "name": "python3",
      "display_name": "Python 3"
    },
    "language_info": {
      "name": "python"
    }
  },
  "cells": [
    {
      "cell_type": "markdown",
      "source": [
        "#**APRESENTAÇÃO**"
      ],
      "metadata": {
        "id": "I2v9TsocqvXm"
      }
    },
    {
      "cell_type": "markdown",
      "source": [
        "Apresenta-se a seguir análise exploratória de dados referentes a clientes de empresa do setor financeiro. Este trabalho tem como objetivo identificar o perfil daqueles clientes com maior probabilidade de evasão. As seguintes informações serão analisadas:\n",
        "\n",
        "1. CustomerId: identificação do cliente.\n",
        "\n",
        "2. Surname: sobrenome do cliente.\n",
        "\n",
        "3. CreditScore: pontuação de credito, 0 alto risco de inadimplência e 1000 clientes com baixo risco de inadimplência.\n",
        "\n",
        "4. Geography: país que o serviço é oferecido.\n",
        "\n",
        "5. Gender: sexo do cliente.\n",
        "\n",
        "6. Age: idade do cleinte.\n",
        "\n",
        "7. Tenure: um indicativo de estabilidade no emprego, em que 0 significa pouca estabilidade e 10 muita estabilidade.\n",
        "\n",
        "8. Balance: saldo da conta corrente.\n",
        "\n",
        "9. NumOfProducts: número de produtos bancários adquiridos.\n",
        "\n",
        "10. HasCrCard: se tem cartão de credito ou não, (Sim = 1 e Não = 0).\n",
        "\n",
        "11. IsActiveMember: se é um cliente com conta ativa, (Ativo = 1).\n",
        "\n",
        "12. EstimatedSalary: salário estimado.\n",
        "\n",
        "13. Exited: cliente deixou de ser cliente do banco ou não (Churn = 1)."
      ],
      "metadata": {
        "id": "a35VYfc7rAPg"
      }
    },
    {
      "cell_type": "code",
      "source": [
        "import pandas as pd\n",
        "import numpy as np\n",
        "import matplotlib as mpl\n",
        "import matplotlib.pyplot as plt\n",
        "import seaborn as sns"
      ],
      "metadata": {
        "id": "6eS68X9vmwne"
      },
      "execution_count": 1,
      "outputs": []
    },
    {
      "cell_type": "markdown",
      "source": [
        " # **OBSERVAÇÕES INICIAIS** "
      ],
      "metadata": {
        "id": "qVsbh_nam78n"
      }
    },
    {
      "cell_type": "code",
      "source": [
        "df_churn = pd.read_csv('churn - Copia.csv', index_col = 'RowNumber', sep=',')"
      ],
      "metadata": {
        "id": "t6ZsVTflof9b"
      },
      "execution_count": 3,
      "outputs": []
    },
    {
      "cell_type": "code",
      "source": [
        "# informações sobre a tabela\n",
        "df_churn.info()"
      ],
      "metadata": {
        "colab": {
          "base_uri": "https://localhost:8080/"
        },
        "id": "zrAiYXoooui4",
        "outputId": "a8b66b0a-fb5f-4881-cee7-f15a9ae30c35"
      },
      "execution_count": 4,
      "outputs": [
        {
          "output_type": "stream",
          "name": "stdout",
          "text": [
            "<class 'pandas.core.frame.DataFrame'>\n",
            "Int64Index: 10000 entries, 1 to 10000\n",
            "Data columns (total 13 columns):\n",
            " #   Column           Non-Null Count  Dtype  \n",
            "---  ------           --------------  -----  \n",
            " 0   CustomerId       10000 non-null  int64  \n",
            " 1   Surname          10000 non-null  object \n",
            " 2   CreditScore      10000 non-null  int64  \n",
            " 3   Geography        10000 non-null  object \n",
            " 4   Gender           10000 non-null  object \n",
            " 5   Age              10000 non-null  int64  \n",
            " 6   Tenure           10000 non-null  int64  \n",
            " 7   Balance          10000 non-null  float64\n",
            " 8   NumOfProducts    10000 non-null  int64  \n",
            " 9   HasCrCard        10000 non-null  int64  \n",
            " 10  IsActiveMember   10000 non-null  int64  \n",
            " 11  EstimatedSalary  10000 non-null  float64\n",
            " 12  Exited           10000 non-null  int64  \n",
            "dtypes: float64(2), int64(8), object(3)\n",
            "memory usage: 1.1+ MB\n"
          ]
        }
      ]
    },
    {
      "cell_type": "code",
      "source": [
        "# exposição das cinco primeiras linhas da tabela \n",
        "df_churn.head()"
      ],
      "metadata": {
        "colab": {
          "base_uri": "https://localhost:8080/",
          "height": 301
        },
        "id": "TrOXcVlkozSQ",
        "outputId": "20d68f55-ae92-4ef5-a431-4e05038eae56"
      },
      "execution_count": 5,
      "outputs": [
        {
          "output_type": "execute_result",
          "data": {
            "text/plain": [
              "           CustomerId   Surname  CreditScore Geography  Gender  Age  Tenure  \\\n",
              "RowNumber                                                                     \n",
              "1            15634602  Hargrave          619    France  Female   42       2   \n",
              "2            15647311      Hill          608     Spain  Female   41       1   \n",
              "3            15619304      Onio          502    France  Female   42       8   \n",
              "4            15701354      Boni          699    France  Female   39       1   \n",
              "5            15737888  Mitchell          850     Spain  Female   43       2   \n",
              "\n",
              "             Balance  NumOfProducts  HasCrCard  IsActiveMember  \\\n",
              "RowNumber                                                        \n",
              "1               0.00              1          1               1   \n",
              "2           83807.86              1          0               1   \n",
              "3          159660.80              3          1               0   \n",
              "4               0.00              2          0               0   \n",
              "5          125510.82              1          1               1   \n",
              "\n",
              "           EstimatedSalary  Exited  \n",
              "RowNumber                           \n",
              "1                101348.88       1  \n",
              "2                112542.58       0  \n",
              "3                113931.57       1  \n",
              "4                 93826.63       0  \n",
              "5                 79084.10       0  "
            ],
            "text/html": [
              "\n",
              "  <div id=\"df-a0d5154d-0a06-4e0e-b54e-b7f64111bc10\">\n",
              "    <div class=\"colab-df-container\">\n",
              "      <div>\n",
              "<style scoped>\n",
              "    .dataframe tbody tr th:only-of-type {\n",
              "        vertical-align: middle;\n",
              "    }\n",
              "\n",
              "    .dataframe tbody tr th {\n",
              "        vertical-align: top;\n",
              "    }\n",
              "\n",
              "    .dataframe thead th {\n",
              "        text-align: right;\n",
              "    }\n",
              "</style>\n",
              "<table border=\"1\" class=\"dataframe\">\n",
              "  <thead>\n",
              "    <tr style=\"text-align: right;\">\n",
              "      <th></th>\n",
              "      <th>CustomerId</th>\n",
              "      <th>Surname</th>\n",
              "      <th>CreditScore</th>\n",
              "      <th>Geography</th>\n",
              "      <th>Gender</th>\n",
              "      <th>Age</th>\n",
              "      <th>Tenure</th>\n",
              "      <th>Balance</th>\n",
              "      <th>NumOfProducts</th>\n",
              "      <th>HasCrCard</th>\n",
              "      <th>IsActiveMember</th>\n",
              "      <th>EstimatedSalary</th>\n",
              "      <th>Exited</th>\n",
              "    </tr>\n",
              "    <tr>\n",
              "      <th>RowNumber</th>\n",
              "      <th></th>\n",
              "      <th></th>\n",
              "      <th></th>\n",
              "      <th></th>\n",
              "      <th></th>\n",
              "      <th></th>\n",
              "      <th></th>\n",
              "      <th></th>\n",
              "      <th></th>\n",
              "      <th></th>\n",
              "      <th></th>\n",
              "      <th></th>\n",
              "      <th></th>\n",
              "    </tr>\n",
              "  </thead>\n",
              "  <tbody>\n",
              "    <tr>\n",
              "      <th>1</th>\n",
              "      <td>15634602</td>\n",
              "      <td>Hargrave</td>\n",
              "      <td>619</td>\n",
              "      <td>France</td>\n",
              "      <td>Female</td>\n",
              "      <td>42</td>\n",
              "      <td>2</td>\n",
              "      <td>0.00</td>\n",
              "      <td>1</td>\n",
              "      <td>1</td>\n",
              "      <td>1</td>\n",
              "      <td>101348.88</td>\n",
              "      <td>1</td>\n",
              "    </tr>\n",
              "    <tr>\n",
              "      <th>2</th>\n",
              "      <td>15647311</td>\n",
              "      <td>Hill</td>\n",
              "      <td>608</td>\n",
              "      <td>Spain</td>\n",
              "      <td>Female</td>\n",
              "      <td>41</td>\n",
              "      <td>1</td>\n",
              "      <td>83807.86</td>\n",
              "      <td>1</td>\n",
              "      <td>0</td>\n",
              "      <td>1</td>\n",
              "      <td>112542.58</td>\n",
              "      <td>0</td>\n",
              "    </tr>\n",
              "    <tr>\n",
              "      <th>3</th>\n",
              "      <td>15619304</td>\n",
              "      <td>Onio</td>\n",
              "      <td>502</td>\n",
              "      <td>France</td>\n",
              "      <td>Female</td>\n",
              "      <td>42</td>\n",
              "      <td>8</td>\n",
              "      <td>159660.80</td>\n",
              "      <td>3</td>\n",
              "      <td>1</td>\n",
              "      <td>0</td>\n",
              "      <td>113931.57</td>\n",
              "      <td>1</td>\n",
              "    </tr>\n",
              "    <tr>\n",
              "      <th>4</th>\n",
              "      <td>15701354</td>\n",
              "      <td>Boni</td>\n",
              "      <td>699</td>\n",
              "      <td>France</td>\n",
              "      <td>Female</td>\n",
              "      <td>39</td>\n",
              "      <td>1</td>\n",
              "      <td>0.00</td>\n",
              "      <td>2</td>\n",
              "      <td>0</td>\n",
              "      <td>0</td>\n",
              "      <td>93826.63</td>\n",
              "      <td>0</td>\n",
              "    </tr>\n",
              "    <tr>\n",
              "      <th>5</th>\n",
              "      <td>15737888</td>\n",
              "      <td>Mitchell</td>\n",
              "      <td>850</td>\n",
              "      <td>Spain</td>\n",
              "      <td>Female</td>\n",
              "      <td>43</td>\n",
              "      <td>2</td>\n",
              "      <td>125510.82</td>\n",
              "      <td>1</td>\n",
              "      <td>1</td>\n",
              "      <td>1</td>\n",
              "      <td>79084.10</td>\n",
              "      <td>0</td>\n",
              "    </tr>\n",
              "  </tbody>\n",
              "</table>\n",
              "</div>\n",
              "      <button class=\"colab-df-convert\" onclick=\"convertToInteractive('df-a0d5154d-0a06-4e0e-b54e-b7f64111bc10')\"\n",
              "              title=\"Convert this dataframe to an interactive table.\"\n",
              "              style=\"display:none;\">\n",
              "        \n",
              "  <svg xmlns=\"http://www.w3.org/2000/svg\" height=\"24px\"viewBox=\"0 0 24 24\"\n",
              "       width=\"24px\">\n",
              "    <path d=\"M0 0h24v24H0V0z\" fill=\"none\"/>\n",
              "    <path d=\"M18.56 5.44l.94 2.06.94-2.06 2.06-.94-2.06-.94-.94-2.06-.94 2.06-2.06.94zm-11 1L8.5 8.5l.94-2.06 2.06-.94-2.06-.94L8.5 2.5l-.94 2.06-2.06.94zm10 10l.94 2.06.94-2.06 2.06-.94-2.06-.94-.94-2.06-.94 2.06-2.06.94z\"/><path d=\"M17.41 7.96l-1.37-1.37c-.4-.4-.92-.59-1.43-.59-.52 0-1.04.2-1.43.59L10.3 9.45l-7.72 7.72c-.78.78-.78 2.05 0 2.83L4 21.41c.39.39.9.59 1.41.59.51 0 1.02-.2 1.41-.59l7.78-7.78 2.81-2.81c.8-.78.8-2.07 0-2.86zM5.41 20L4 18.59l7.72-7.72 1.47 1.35L5.41 20z\"/>\n",
              "  </svg>\n",
              "      </button>\n",
              "      \n",
              "  <style>\n",
              "    .colab-df-container {\n",
              "      display:flex;\n",
              "      flex-wrap:wrap;\n",
              "      gap: 12px;\n",
              "    }\n",
              "\n",
              "    .colab-df-convert {\n",
              "      background-color: #E8F0FE;\n",
              "      border: none;\n",
              "      border-radius: 50%;\n",
              "      cursor: pointer;\n",
              "      display: none;\n",
              "      fill: #1967D2;\n",
              "      height: 32px;\n",
              "      padding: 0 0 0 0;\n",
              "      width: 32px;\n",
              "    }\n",
              "\n",
              "    .colab-df-convert:hover {\n",
              "      background-color: #E2EBFA;\n",
              "      box-shadow: 0px 1px 2px rgba(60, 64, 67, 0.3), 0px 1px 3px 1px rgba(60, 64, 67, 0.15);\n",
              "      fill: #174EA6;\n",
              "    }\n",
              "\n",
              "    [theme=dark] .colab-df-convert {\n",
              "      background-color: #3B4455;\n",
              "      fill: #D2E3FC;\n",
              "    }\n",
              "\n",
              "    [theme=dark] .colab-df-convert:hover {\n",
              "      background-color: #434B5C;\n",
              "      box-shadow: 0px 1px 3px 1px rgba(0, 0, 0, 0.15);\n",
              "      filter: drop-shadow(0px 1px 2px rgba(0, 0, 0, 0.3));\n",
              "      fill: #FFFFFF;\n",
              "    }\n",
              "  </style>\n",
              "\n",
              "      <script>\n",
              "        const buttonEl =\n",
              "          document.querySelector('#df-a0d5154d-0a06-4e0e-b54e-b7f64111bc10 button.colab-df-convert');\n",
              "        buttonEl.style.display =\n",
              "          google.colab.kernel.accessAllowed ? 'block' : 'none';\n",
              "\n",
              "        async function convertToInteractive(key) {\n",
              "          const element = document.querySelector('#df-a0d5154d-0a06-4e0e-b54e-b7f64111bc10');\n",
              "          const dataTable =\n",
              "            await google.colab.kernel.invokeFunction('convertToInteractive',\n",
              "                                                     [key], {});\n",
              "          if (!dataTable) return;\n",
              "\n",
              "          const docLinkHtml = 'Like what you see? Visit the ' +\n",
              "            '<a target=\"_blank\" href=https://colab.research.google.com/notebooks/data_table.ipynb>data table notebook</a>'\n",
              "            + ' to learn more about interactive tables.';\n",
              "          element.innerHTML = '';\n",
              "          dataTable['output_type'] = 'display_data';\n",
              "          await google.colab.output.renderOutput(dataTable, element);\n",
              "          const docLink = document.createElement('div');\n",
              "          docLink.innerHTML = docLinkHtml;\n",
              "          element.appendChild(docLink);\n",
              "        }\n",
              "      </script>\n",
              "    </div>\n",
              "  </div>\n",
              "  "
            ]
          },
          "metadata": {},
          "execution_count": 5
        }
      ]
    },
    {
      "cell_type": "code",
      "source": [
        "# Rastreando dados duplicados\n",
        "df_churn.duplicated().sum()"
      ],
      "metadata": {
        "colab": {
          "base_uri": "https://localhost:8080/"
        },
        "id": "oOabPB0Zo2YT",
        "outputId": "e5200efb-0253-4245-c562-4ba9c751d17a"
      },
      "execution_count": 6,
      "outputs": [
        {
          "output_type": "execute_result",
          "data": {
            "text/plain": [
              "0"
            ]
          },
          "metadata": {},
          "execution_count": 6
        }
      ]
    },
    {
      "cell_type": "code",
      "source": [
        "# Rastreando NaN\n",
        "df_churn.isna().sum()"
      ],
      "metadata": {
        "colab": {
          "base_uri": "https://localhost:8080/"
        },
        "id": "fILWzpuFo_C7",
        "outputId": "25a104d5-d559-493e-9d57-cfbc241f392a"
      },
      "execution_count": 7,
      "outputs": [
        {
          "output_type": "execute_result",
          "data": {
            "text/plain": [
              "CustomerId         0\n",
              "Surname            0\n",
              "CreditScore        0\n",
              "Geography          0\n",
              "Gender             0\n",
              "Age                0\n",
              "Tenure             0\n",
              "Balance            0\n",
              "NumOfProducts      0\n",
              "HasCrCard          0\n",
              "IsActiveMember     0\n",
              "EstimatedSalary    0\n",
              "Exited             0\n",
              "dtype: int64"
            ]
          },
          "metadata": {},
          "execution_count": 7
        }
      ]
    },
    {
      "cell_type": "code",
      "source": [
        "# Deletando colunas de identificação (que não apresentam dados relevantes(qualitativos ou quantitativos))\n",
        "arr_delete = ['CustomerId', 'Surname']\n",
        "df_churn.drop(arr_delete, axis=1, inplace = True)\n",
        "df_churn"
      ],
      "metadata": {
        "colab": {
          "base_uri": "https://localhost:8080/",
          "height": 455
        },
        "id": "XCn1SuIypV6M",
        "outputId": "f29fa866-2900-4f7b-fdb2-9258509395af"
      },
      "execution_count": 8,
      "outputs": [
        {
          "output_type": "execute_result",
          "data": {
            "text/plain": [
              "           CreditScore Geography  Gender  Age  Tenure    Balance  \\\n",
              "RowNumber                                                          \n",
              "1                  619    France  Female   42       2       0.00   \n",
              "2                  608     Spain  Female   41       1   83807.86   \n",
              "3                  502    France  Female   42       8  159660.80   \n",
              "4                  699    France  Female   39       1       0.00   \n",
              "5                  850     Spain  Female   43       2  125510.82   \n",
              "...                ...       ...     ...  ...     ...        ...   \n",
              "9996               771    France    Male   39       5       0.00   \n",
              "9997               516    France    Male   35      10   57369.61   \n",
              "9998               709    France  Female   36       7       0.00   \n",
              "9999               772   Germany    Male   42       3   75075.31   \n",
              "10000              792    France  Female   28       4  130142.79   \n",
              "\n",
              "           NumOfProducts  HasCrCard  IsActiveMember  EstimatedSalary  Exited  \n",
              "RowNumber                                                                     \n",
              "1                      1          1               1        101348.88       1  \n",
              "2                      1          0               1        112542.58       0  \n",
              "3                      3          1               0        113931.57       1  \n",
              "4                      2          0               0         93826.63       0  \n",
              "5                      1          1               1         79084.10       0  \n",
              "...                  ...        ...             ...              ...     ...  \n",
              "9996                   2          1               0         96270.64       0  \n",
              "9997                   1          1               1        101699.77       0  \n",
              "9998                   1          0               1         42085.58       1  \n",
              "9999                   2          1               0         92888.52       1  \n",
              "10000                  1          1               0         38190.78       0  \n",
              "\n",
              "[10000 rows x 11 columns]"
            ],
            "text/html": [
              "\n",
              "  <div id=\"df-7d9ae46a-e88e-4193-adef-8390af05df86\">\n",
              "    <div class=\"colab-df-container\">\n",
              "      <div>\n",
              "<style scoped>\n",
              "    .dataframe tbody tr th:only-of-type {\n",
              "        vertical-align: middle;\n",
              "    }\n",
              "\n",
              "    .dataframe tbody tr th {\n",
              "        vertical-align: top;\n",
              "    }\n",
              "\n",
              "    .dataframe thead th {\n",
              "        text-align: right;\n",
              "    }\n",
              "</style>\n",
              "<table border=\"1\" class=\"dataframe\">\n",
              "  <thead>\n",
              "    <tr style=\"text-align: right;\">\n",
              "      <th></th>\n",
              "      <th>CreditScore</th>\n",
              "      <th>Geography</th>\n",
              "      <th>Gender</th>\n",
              "      <th>Age</th>\n",
              "      <th>Tenure</th>\n",
              "      <th>Balance</th>\n",
              "      <th>NumOfProducts</th>\n",
              "      <th>HasCrCard</th>\n",
              "      <th>IsActiveMember</th>\n",
              "      <th>EstimatedSalary</th>\n",
              "      <th>Exited</th>\n",
              "    </tr>\n",
              "    <tr>\n",
              "      <th>RowNumber</th>\n",
              "      <th></th>\n",
              "      <th></th>\n",
              "      <th></th>\n",
              "      <th></th>\n",
              "      <th></th>\n",
              "      <th></th>\n",
              "      <th></th>\n",
              "      <th></th>\n",
              "      <th></th>\n",
              "      <th></th>\n",
              "      <th></th>\n",
              "    </tr>\n",
              "  </thead>\n",
              "  <tbody>\n",
              "    <tr>\n",
              "      <th>1</th>\n",
              "      <td>619</td>\n",
              "      <td>France</td>\n",
              "      <td>Female</td>\n",
              "      <td>42</td>\n",
              "      <td>2</td>\n",
              "      <td>0.00</td>\n",
              "      <td>1</td>\n",
              "      <td>1</td>\n",
              "      <td>1</td>\n",
              "      <td>101348.88</td>\n",
              "      <td>1</td>\n",
              "    </tr>\n",
              "    <tr>\n",
              "      <th>2</th>\n",
              "      <td>608</td>\n",
              "      <td>Spain</td>\n",
              "      <td>Female</td>\n",
              "      <td>41</td>\n",
              "      <td>1</td>\n",
              "      <td>83807.86</td>\n",
              "      <td>1</td>\n",
              "      <td>0</td>\n",
              "      <td>1</td>\n",
              "      <td>112542.58</td>\n",
              "      <td>0</td>\n",
              "    </tr>\n",
              "    <tr>\n",
              "      <th>3</th>\n",
              "      <td>502</td>\n",
              "      <td>France</td>\n",
              "      <td>Female</td>\n",
              "      <td>42</td>\n",
              "      <td>8</td>\n",
              "      <td>159660.80</td>\n",
              "      <td>3</td>\n",
              "      <td>1</td>\n",
              "      <td>0</td>\n",
              "      <td>113931.57</td>\n",
              "      <td>1</td>\n",
              "    </tr>\n",
              "    <tr>\n",
              "      <th>4</th>\n",
              "      <td>699</td>\n",
              "      <td>France</td>\n",
              "      <td>Female</td>\n",
              "      <td>39</td>\n",
              "      <td>1</td>\n",
              "      <td>0.00</td>\n",
              "      <td>2</td>\n",
              "      <td>0</td>\n",
              "      <td>0</td>\n",
              "      <td>93826.63</td>\n",
              "      <td>0</td>\n",
              "    </tr>\n",
              "    <tr>\n",
              "      <th>5</th>\n",
              "      <td>850</td>\n",
              "      <td>Spain</td>\n",
              "      <td>Female</td>\n",
              "      <td>43</td>\n",
              "      <td>2</td>\n",
              "      <td>125510.82</td>\n",
              "      <td>1</td>\n",
              "      <td>1</td>\n",
              "      <td>1</td>\n",
              "      <td>79084.10</td>\n",
              "      <td>0</td>\n",
              "    </tr>\n",
              "    <tr>\n",
              "      <th>...</th>\n",
              "      <td>...</td>\n",
              "      <td>...</td>\n",
              "      <td>...</td>\n",
              "      <td>...</td>\n",
              "      <td>...</td>\n",
              "      <td>...</td>\n",
              "      <td>...</td>\n",
              "      <td>...</td>\n",
              "      <td>...</td>\n",
              "      <td>...</td>\n",
              "      <td>...</td>\n",
              "    </tr>\n",
              "    <tr>\n",
              "      <th>9996</th>\n",
              "      <td>771</td>\n",
              "      <td>France</td>\n",
              "      <td>Male</td>\n",
              "      <td>39</td>\n",
              "      <td>5</td>\n",
              "      <td>0.00</td>\n",
              "      <td>2</td>\n",
              "      <td>1</td>\n",
              "      <td>0</td>\n",
              "      <td>96270.64</td>\n",
              "      <td>0</td>\n",
              "    </tr>\n",
              "    <tr>\n",
              "      <th>9997</th>\n",
              "      <td>516</td>\n",
              "      <td>France</td>\n",
              "      <td>Male</td>\n",
              "      <td>35</td>\n",
              "      <td>10</td>\n",
              "      <td>57369.61</td>\n",
              "      <td>1</td>\n",
              "      <td>1</td>\n",
              "      <td>1</td>\n",
              "      <td>101699.77</td>\n",
              "      <td>0</td>\n",
              "    </tr>\n",
              "    <tr>\n",
              "      <th>9998</th>\n",
              "      <td>709</td>\n",
              "      <td>France</td>\n",
              "      <td>Female</td>\n",
              "      <td>36</td>\n",
              "      <td>7</td>\n",
              "      <td>0.00</td>\n",
              "      <td>1</td>\n",
              "      <td>0</td>\n",
              "      <td>1</td>\n",
              "      <td>42085.58</td>\n",
              "      <td>1</td>\n",
              "    </tr>\n",
              "    <tr>\n",
              "      <th>9999</th>\n",
              "      <td>772</td>\n",
              "      <td>Germany</td>\n",
              "      <td>Male</td>\n",
              "      <td>42</td>\n",
              "      <td>3</td>\n",
              "      <td>75075.31</td>\n",
              "      <td>2</td>\n",
              "      <td>1</td>\n",
              "      <td>0</td>\n",
              "      <td>92888.52</td>\n",
              "      <td>1</td>\n",
              "    </tr>\n",
              "    <tr>\n",
              "      <th>10000</th>\n",
              "      <td>792</td>\n",
              "      <td>France</td>\n",
              "      <td>Female</td>\n",
              "      <td>28</td>\n",
              "      <td>4</td>\n",
              "      <td>130142.79</td>\n",
              "      <td>1</td>\n",
              "      <td>1</td>\n",
              "      <td>0</td>\n",
              "      <td>38190.78</td>\n",
              "      <td>0</td>\n",
              "    </tr>\n",
              "  </tbody>\n",
              "</table>\n",
              "<p>10000 rows × 11 columns</p>\n",
              "</div>\n",
              "      <button class=\"colab-df-convert\" onclick=\"convertToInteractive('df-7d9ae46a-e88e-4193-adef-8390af05df86')\"\n",
              "              title=\"Convert this dataframe to an interactive table.\"\n",
              "              style=\"display:none;\">\n",
              "        \n",
              "  <svg xmlns=\"http://www.w3.org/2000/svg\" height=\"24px\"viewBox=\"0 0 24 24\"\n",
              "       width=\"24px\">\n",
              "    <path d=\"M0 0h24v24H0V0z\" fill=\"none\"/>\n",
              "    <path d=\"M18.56 5.44l.94 2.06.94-2.06 2.06-.94-2.06-.94-.94-2.06-.94 2.06-2.06.94zm-11 1L8.5 8.5l.94-2.06 2.06-.94-2.06-.94L8.5 2.5l-.94 2.06-2.06.94zm10 10l.94 2.06.94-2.06 2.06-.94-2.06-.94-.94-2.06-.94 2.06-2.06.94z\"/><path d=\"M17.41 7.96l-1.37-1.37c-.4-.4-.92-.59-1.43-.59-.52 0-1.04.2-1.43.59L10.3 9.45l-7.72 7.72c-.78.78-.78 2.05 0 2.83L4 21.41c.39.39.9.59 1.41.59.51 0 1.02-.2 1.41-.59l7.78-7.78 2.81-2.81c.8-.78.8-2.07 0-2.86zM5.41 20L4 18.59l7.72-7.72 1.47 1.35L5.41 20z\"/>\n",
              "  </svg>\n",
              "      </button>\n",
              "      \n",
              "  <style>\n",
              "    .colab-df-container {\n",
              "      display:flex;\n",
              "      flex-wrap:wrap;\n",
              "      gap: 12px;\n",
              "    }\n",
              "\n",
              "    .colab-df-convert {\n",
              "      background-color: #E8F0FE;\n",
              "      border: none;\n",
              "      border-radius: 50%;\n",
              "      cursor: pointer;\n",
              "      display: none;\n",
              "      fill: #1967D2;\n",
              "      height: 32px;\n",
              "      padding: 0 0 0 0;\n",
              "      width: 32px;\n",
              "    }\n",
              "\n",
              "    .colab-df-convert:hover {\n",
              "      background-color: #E2EBFA;\n",
              "      box-shadow: 0px 1px 2px rgba(60, 64, 67, 0.3), 0px 1px 3px 1px rgba(60, 64, 67, 0.15);\n",
              "      fill: #174EA6;\n",
              "    }\n",
              "\n",
              "    [theme=dark] .colab-df-convert {\n",
              "      background-color: #3B4455;\n",
              "      fill: #D2E3FC;\n",
              "    }\n",
              "\n",
              "    [theme=dark] .colab-df-convert:hover {\n",
              "      background-color: #434B5C;\n",
              "      box-shadow: 0px 1px 3px 1px rgba(0, 0, 0, 0.15);\n",
              "      filter: drop-shadow(0px 1px 2px rgba(0, 0, 0, 0.3));\n",
              "      fill: #FFFFFF;\n",
              "    }\n",
              "  </style>\n",
              "\n",
              "      <script>\n",
              "        const buttonEl =\n",
              "          document.querySelector('#df-7d9ae46a-e88e-4193-adef-8390af05df86 button.colab-df-convert');\n",
              "        buttonEl.style.display =\n",
              "          google.colab.kernel.accessAllowed ? 'block' : 'none';\n",
              "\n",
              "        async function convertToInteractive(key) {\n",
              "          const element = document.querySelector('#df-7d9ae46a-e88e-4193-adef-8390af05df86');\n",
              "          const dataTable =\n",
              "            await google.colab.kernel.invokeFunction('convertToInteractive',\n",
              "                                                     [key], {});\n",
              "          if (!dataTable) return;\n",
              "\n",
              "          const docLinkHtml = 'Like what you see? Visit the ' +\n",
              "            '<a target=\"_blank\" href=https://colab.research.google.com/notebooks/data_table.ipynb>data table notebook</a>'\n",
              "            + ' to learn more about interactive tables.';\n",
              "          element.innerHTML = '';\n",
              "          dataTable['output_type'] = 'display_data';\n",
              "          await google.colab.output.renderOutput(dataTable, element);\n",
              "          const docLink = document.createElement('div');\n",
              "          docLink.innerHTML = docLinkHtml;\n",
              "          element.appendChild(docLink);\n",
              "        }\n",
              "      </script>\n",
              "    </div>\n",
              "  </div>\n",
              "  "
            ]
          },
          "metadata": {},
          "execution_count": 8
        }
      ]
    },
    {
      "cell_type": "code",
      "source": [
        "# Separando as Features qualitativas das quantitativas\n",
        "arr_quali = ['Geography', 'Gender', 'HasCrCard', 'IsActiveMember', 'Exited']\n",
        "arr_quanti = ['CreditScore', 'Age', 'Tenure', 'Balance', 'NumOfProducts', 'EstimatedSalary', 'Exited']\n",
        "\n",
        "df_churn_quali = df_churn[arr_quali]\n",
        "df_churn_quanti = df_churn[arr_quanti]"
      ],
      "metadata": {
        "id": "BaVdP7Cwp03J"
      },
      "execution_count": 9,
      "outputs": []
    },
    {
      "cell_type": "code",
      "source": [
        "# Nas Features quantitativas fez-se os estudos estatísticos para compreender a distribuição dos dados\n",
        "df_churn_quanti.describe().round(2)"
      ],
      "metadata": {
        "colab": {
          "base_uri": "https://localhost:8080/",
          "height": 300
        },
        "id": "l1JqUSQ4p76a",
        "outputId": "49625c3d-6034-49d9-f921-9dcb1d353099"
      },
      "execution_count": 10,
      "outputs": [
        {
          "output_type": "execute_result",
          "data": {
            "text/plain": [
              "       CreditScore       Age    Tenure    Balance  NumOfProducts  \\\n",
              "count     10000.00  10000.00  10000.00   10000.00       10000.00   \n",
              "mean        650.53     38.92      5.01   76485.89           1.53   \n",
              "std          96.65     10.49      2.89   62397.41           0.58   \n",
              "min         350.00     18.00      0.00       0.00           1.00   \n",
              "25%         584.00     32.00      3.00       0.00           1.00   \n",
              "50%         652.00     37.00      5.00   97198.54           1.00   \n",
              "75%         718.00     44.00      7.00  127644.24           2.00   \n",
              "max         850.00     92.00     10.00  250898.09           4.00   \n",
              "\n",
              "       EstimatedSalary   Exited  \n",
              "count         10000.00  10000.0  \n",
              "mean         100090.24      0.2  \n",
              "std           57510.49      0.4  \n",
              "min              11.58      0.0  \n",
              "25%           51002.11      0.0  \n",
              "50%          100193.92      0.0  \n",
              "75%          149388.25      0.0  \n",
              "max          199992.48      1.0  "
            ],
            "text/html": [
              "\n",
              "  <div id=\"df-51fddece-5f38-4679-abbb-6dc2f32ac938\">\n",
              "    <div class=\"colab-df-container\">\n",
              "      <div>\n",
              "<style scoped>\n",
              "    .dataframe tbody tr th:only-of-type {\n",
              "        vertical-align: middle;\n",
              "    }\n",
              "\n",
              "    .dataframe tbody tr th {\n",
              "        vertical-align: top;\n",
              "    }\n",
              "\n",
              "    .dataframe thead th {\n",
              "        text-align: right;\n",
              "    }\n",
              "</style>\n",
              "<table border=\"1\" class=\"dataframe\">\n",
              "  <thead>\n",
              "    <tr style=\"text-align: right;\">\n",
              "      <th></th>\n",
              "      <th>CreditScore</th>\n",
              "      <th>Age</th>\n",
              "      <th>Tenure</th>\n",
              "      <th>Balance</th>\n",
              "      <th>NumOfProducts</th>\n",
              "      <th>EstimatedSalary</th>\n",
              "      <th>Exited</th>\n",
              "    </tr>\n",
              "  </thead>\n",
              "  <tbody>\n",
              "    <tr>\n",
              "      <th>count</th>\n",
              "      <td>10000.00</td>\n",
              "      <td>10000.00</td>\n",
              "      <td>10000.00</td>\n",
              "      <td>10000.00</td>\n",
              "      <td>10000.00</td>\n",
              "      <td>10000.00</td>\n",
              "      <td>10000.0</td>\n",
              "    </tr>\n",
              "    <tr>\n",
              "      <th>mean</th>\n",
              "      <td>650.53</td>\n",
              "      <td>38.92</td>\n",
              "      <td>5.01</td>\n",
              "      <td>76485.89</td>\n",
              "      <td>1.53</td>\n",
              "      <td>100090.24</td>\n",
              "      <td>0.2</td>\n",
              "    </tr>\n",
              "    <tr>\n",
              "      <th>std</th>\n",
              "      <td>96.65</td>\n",
              "      <td>10.49</td>\n",
              "      <td>2.89</td>\n",
              "      <td>62397.41</td>\n",
              "      <td>0.58</td>\n",
              "      <td>57510.49</td>\n",
              "      <td>0.4</td>\n",
              "    </tr>\n",
              "    <tr>\n",
              "      <th>min</th>\n",
              "      <td>350.00</td>\n",
              "      <td>18.00</td>\n",
              "      <td>0.00</td>\n",
              "      <td>0.00</td>\n",
              "      <td>1.00</td>\n",
              "      <td>11.58</td>\n",
              "      <td>0.0</td>\n",
              "    </tr>\n",
              "    <tr>\n",
              "      <th>25%</th>\n",
              "      <td>584.00</td>\n",
              "      <td>32.00</td>\n",
              "      <td>3.00</td>\n",
              "      <td>0.00</td>\n",
              "      <td>1.00</td>\n",
              "      <td>51002.11</td>\n",
              "      <td>0.0</td>\n",
              "    </tr>\n",
              "    <tr>\n",
              "      <th>50%</th>\n",
              "      <td>652.00</td>\n",
              "      <td>37.00</td>\n",
              "      <td>5.00</td>\n",
              "      <td>97198.54</td>\n",
              "      <td>1.00</td>\n",
              "      <td>100193.92</td>\n",
              "      <td>0.0</td>\n",
              "    </tr>\n",
              "    <tr>\n",
              "      <th>75%</th>\n",
              "      <td>718.00</td>\n",
              "      <td>44.00</td>\n",
              "      <td>7.00</td>\n",
              "      <td>127644.24</td>\n",
              "      <td>2.00</td>\n",
              "      <td>149388.25</td>\n",
              "      <td>0.0</td>\n",
              "    </tr>\n",
              "    <tr>\n",
              "      <th>max</th>\n",
              "      <td>850.00</td>\n",
              "      <td>92.00</td>\n",
              "      <td>10.00</td>\n",
              "      <td>250898.09</td>\n",
              "      <td>4.00</td>\n",
              "      <td>199992.48</td>\n",
              "      <td>1.0</td>\n",
              "    </tr>\n",
              "  </tbody>\n",
              "</table>\n",
              "</div>\n",
              "      <button class=\"colab-df-convert\" onclick=\"convertToInteractive('df-51fddece-5f38-4679-abbb-6dc2f32ac938')\"\n",
              "              title=\"Convert this dataframe to an interactive table.\"\n",
              "              style=\"display:none;\">\n",
              "        \n",
              "  <svg xmlns=\"http://www.w3.org/2000/svg\" height=\"24px\"viewBox=\"0 0 24 24\"\n",
              "       width=\"24px\">\n",
              "    <path d=\"M0 0h24v24H0V0z\" fill=\"none\"/>\n",
              "    <path d=\"M18.56 5.44l.94 2.06.94-2.06 2.06-.94-2.06-.94-.94-2.06-.94 2.06-2.06.94zm-11 1L8.5 8.5l.94-2.06 2.06-.94-2.06-.94L8.5 2.5l-.94 2.06-2.06.94zm10 10l.94 2.06.94-2.06 2.06-.94-2.06-.94-.94-2.06-.94 2.06-2.06.94z\"/><path d=\"M17.41 7.96l-1.37-1.37c-.4-.4-.92-.59-1.43-.59-.52 0-1.04.2-1.43.59L10.3 9.45l-7.72 7.72c-.78.78-.78 2.05 0 2.83L4 21.41c.39.39.9.59 1.41.59.51 0 1.02-.2 1.41-.59l7.78-7.78 2.81-2.81c.8-.78.8-2.07 0-2.86zM5.41 20L4 18.59l7.72-7.72 1.47 1.35L5.41 20z\"/>\n",
              "  </svg>\n",
              "      </button>\n",
              "      \n",
              "  <style>\n",
              "    .colab-df-container {\n",
              "      display:flex;\n",
              "      flex-wrap:wrap;\n",
              "      gap: 12px;\n",
              "    }\n",
              "\n",
              "    .colab-df-convert {\n",
              "      background-color: #E8F0FE;\n",
              "      border: none;\n",
              "      border-radius: 50%;\n",
              "      cursor: pointer;\n",
              "      display: none;\n",
              "      fill: #1967D2;\n",
              "      height: 32px;\n",
              "      padding: 0 0 0 0;\n",
              "      width: 32px;\n",
              "    }\n",
              "\n",
              "    .colab-df-convert:hover {\n",
              "      background-color: #E2EBFA;\n",
              "      box-shadow: 0px 1px 2px rgba(60, 64, 67, 0.3), 0px 1px 3px 1px rgba(60, 64, 67, 0.15);\n",
              "      fill: #174EA6;\n",
              "    }\n",
              "\n",
              "    [theme=dark] .colab-df-convert {\n",
              "      background-color: #3B4455;\n",
              "      fill: #D2E3FC;\n",
              "    }\n",
              "\n",
              "    [theme=dark] .colab-df-convert:hover {\n",
              "      background-color: #434B5C;\n",
              "      box-shadow: 0px 1px 3px 1px rgba(0, 0, 0, 0.15);\n",
              "      filter: drop-shadow(0px 1px 2px rgba(0, 0, 0, 0.3));\n",
              "      fill: #FFFFFF;\n",
              "    }\n",
              "  </style>\n",
              "\n",
              "      <script>\n",
              "        const buttonEl =\n",
              "          document.querySelector('#df-51fddece-5f38-4679-abbb-6dc2f32ac938 button.colab-df-convert');\n",
              "        buttonEl.style.display =\n",
              "          google.colab.kernel.accessAllowed ? 'block' : 'none';\n",
              "\n",
              "        async function convertToInteractive(key) {\n",
              "          const element = document.querySelector('#df-51fddece-5f38-4679-abbb-6dc2f32ac938');\n",
              "          const dataTable =\n",
              "            await google.colab.kernel.invokeFunction('convertToInteractive',\n",
              "                                                     [key], {});\n",
              "          if (!dataTable) return;\n",
              "\n",
              "          const docLinkHtml = 'Like what you see? Visit the ' +\n",
              "            '<a target=\"_blank\" href=https://colab.research.google.com/notebooks/data_table.ipynb>data table notebook</a>'\n",
              "            + ' to learn more about interactive tables.';\n",
              "          element.innerHTML = '';\n",
              "          dataTable['output_type'] = 'display_data';\n",
              "          await google.colab.output.renderOutput(dataTable, element);\n",
              "          const docLink = document.createElement('div');\n",
              "          docLink.innerHTML = docLinkHtml;\n",
              "          element.appendChild(docLink);\n",
              "        }\n",
              "      </script>\n",
              "    </div>\n",
              "  </div>\n",
              "  "
            ]
          },
          "metadata": {},
          "execution_count": 10
        }
      ]
    },
    {
      "cell_type": "code",
      "source": [
        "# Verificando a correlação\n",
        "corr_churn = df_churn_quanti.corr()\n",
        "sns.heatmap(\n",
        "    data=corr_churn, annot=True, linewidths=0, cmap=sns.color_palette(\n",
        "        \"light:grey\", as_cmap=True), cbar=True).figure.set_size_inches(12, 8)"
      ],
      "metadata": {
        "colab": {
          "base_uri": "https://localhost:8080/",
          "height": 559
        },
        "id": "X1f7kdJEGsJ9",
        "outputId": "0cf5f6da-efa1-4264-c584-1c5d76786bbe"
      },
      "execution_count": 11,
      "outputs": [
        {
          "output_type": "display_data",
          "data": {
            "text/plain": [
              "<Figure size 864x576 with 2 Axes>"
            ],
            "image/png": "[encoded data removed]"
          },
          "metadata": {
            "needs_background": "light"
          }
        }
      ]
    },
    {
      "cell_type": "code",
      "source": [
        "# Nas Features qualitativas verificou-se a quantidade por categorias\n",
        "df_churn.Geography.value_counts()"
      ],
      "metadata": {
        "colab": {
          "base_uri": "https://localhost:8080/"
        },
        "id": "koj0r9u0twkU",
        "outputId": "7ac819dd-8c8a-465a-b4a9-e5b4c1e5877f"
      },
      "execution_count": 12,
      "outputs": [
        {
          "output_type": "execute_result",
          "data": {
            "text/plain": [
              "France     5014\n",
              "Germany    2509\n",
              "Spain      2477\n",
              "Name: Geography, dtype: int64"
            ]
          },
          "metadata": {},
          "execution_count": 12
        }
      ]
    },
    {
      "cell_type": "code",
      "source": [
        "df_churn.groupby(['Exited']).Geography.value_counts()"
      ],
      "metadata": {
        "colab": {
          "base_uri": "https://localhost:8080/"
        },
        "id": "D9MUTWm_Dn_x",
        "outputId": "7254eff1-dedc-40fa-f575-db38accdcc23"
      },
      "execution_count": 13,
      "outputs": [
        {
          "output_type": "execute_result",
          "data": {
            "text/plain": [
              "Exited  Geography\n",
              "0       France       4204\n",
              "        Spain        2064\n",
              "        Germany      1695\n",
              "1       Germany       814\n",
              "        France        810\n",
              "        Spain         413\n",
              "Name: Geography, dtype: int64"
            ]
          },
          "metadata": {},
          "execution_count": 13
        }
      ]
    },
    {
      "cell_type": "code",
      "source": [
        "df_churn.Gender.value_counts()"
      ],
      "metadata": {
        "colab": {
          "base_uri": "https://localhost:8080/"
        },
        "id": "owtRfi3tu-gM",
        "outputId": "db65788e-fd7e-4be4-95b2-b5d4dc404598"
      },
      "execution_count": 14,
      "outputs": [
        {
          "output_type": "execute_result",
          "data": {
            "text/plain": [
              "Male      5457\n",
              "Female    4543\n",
              "Name: Gender, dtype: int64"
            ]
          },
          "metadata": {},
          "execution_count": 14
        }
      ]
    },
    {
      "cell_type": "code",
      "source": [
        "df_churn.groupby(['Exited']).Gender.value_counts()"
      ],
      "metadata": {
        "colab": {
          "base_uri": "https://localhost:8080/"
        },
        "id": "Pz7HEKk5DiXb",
        "outputId": "774cc72f-76b9-4f95-e815-5005cee894b0"
      },
      "execution_count": 15,
      "outputs": [
        {
          "output_type": "execute_result",
          "data": {
            "text/plain": [
              "Exited  Gender\n",
              "0       Male      4559\n",
              "        Female    3404\n",
              "1       Female    1139\n",
              "        Male       898\n",
              "Name: Gender, dtype: int64"
            ]
          },
          "metadata": {},
          "execution_count": 15
        }
      ]
    },
    {
      "cell_type": "code",
      "source": [
        "df_churn.HasCrCard.value_counts()"
      ],
      "metadata": {
        "colab": {
          "base_uri": "https://localhost:8080/"
        },
        "id": "zx2rr2xbvGxX",
        "outputId": "5920bb1c-d551-4110-e969-ac7bc962a68c"
      },
      "execution_count": 16,
      "outputs": [
        {
          "output_type": "execute_result",
          "data": {
            "text/plain": [
              "1    7055\n",
              "0    2945\n",
              "Name: HasCrCard, dtype: int64"
            ]
          },
          "metadata": {},
          "execution_count": 16
        }
      ]
    },
    {
      "cell_type": "code",
      "source": [
        "df_churn.groupby(['Exited']).HasCrCard.value_counts()"
      ],
      "metadata": {
        "colab": {
          "base_uri": "https://localhost:8080/"
        },
        "id": "pUak8ywuD4_c",
        "outputId": "207fa44f-58f9-49aa-ef26-4720892775fe"
      },
      "execution_count": 17,
      "outputs": [
        {
          "output_type": "execute_result",
          "data": {
            "text/plain": [
              "Exited  HasCrCard\n",
              "0       1            5631\n",
              "        0            2332\n",
              "1       1            1424\n",
              "        0             613\n",
              "Name: HasCrCard, dtype: int64"
            ]
          },
          "metadata": {},
          "execution_count": 17
        }
      ]
    },
    {
      "cell_type": "code",
      "source": [
        "df_churn.IsActiveMember.value_counts()"
      ],
      "metadata": {
        "colab": {
          "base_uri": "https://localhost:8080/"
        },
        "id": "9X02sqs_vKN6",
        "outputId": "68a7a6d8-2a45-4806-8400-dd2144f0046e"
      },
      "execution_count": 18,
      "outputs": [
        {
          "output_type": "execute_result",
          "data": {
            "text/plain": [
              "1    5151\n",
              "0    4849\n",
              "Name: IsActiveMember, dtype: int64"
            ]
          },
          "metadata": {},
          "execution_count": 18
        }
      ]
    },
    {
      "cell_type": "code",
      "source": [
        "df_churn.groupby(['Exited']).IsActiveMember.value_counts()"
      ],
      "metadata": {
        "colab": {
          "base_uri": "https://localhost:8080/"
        },
        "id": "Cg4Dt4vRD7mI",
        "outputId": "bbc4b43b-73d5-4f0d-89c1-3361cb8a06c2"
      },
      "execution_count": 19,
      "outputs": [
        {
          "output_type": "execute_result",
          "data": {
            "text/plain": [
              "Exited  IsActiveMember\n",
              "0       1                 4416\n",
              "        0                 3547\n",
              "1       0                 1302\n",
              "        1                  735\n",
              "Name: IsActiveMember, dtype: int64"
            ]
          },
          "metadata": {},
          "execution_count": 19
        }
      ]
    },
    {
      "cell_type": "markdown",
      "source": [
        "# **LEVANTAMENTO DE HIPÓTESES**"
      ],
      "metadata": {
        "id": "kpR15GYOs-CN"
      }
    },
    {
      "cell_type": "markdown",
      "source": [
        "Dados quantitativos:\n",
        "\n",
        "Inicialmente, dentre os dados quantitativos, é possível perceber, pelo quadro de correlações, a existência de uma correlação positiva maior entre idade e saldo em conta corrente com o churn. Intuitivamente, também, é possível supor que o menor número de produtos pode ser determinante para a saída de clientes.\n",
        "\n",
        "Dados quantitativos:\n",
        "\n",
        "Verifica-se, a partir das observações iniciais, que, dentre as variáveis qualitativas, há uma maior evasão entre clientes franceses e alemães, porém, proporcionalmente, a evasão de clientes alemães é superior, evidenciando uma probabilidade maior, posto que o número total de franceses é visivelmente superior ao de alemães. Igualmente, verifica-se uma probabilidade maior de evasão entre clientes do gênero feminino, apesar de o total de clientes mulheres ser menor que o total de homens. Também evadem mais clientes com cartão de crédito que aqueles que não têm, assim  como os clientes não ativos.\n"
      ],
      "metadata": {
        "id": "s5kvwDKFtFJp"
      }
    },
    {
      "cell_type": "markdown",
      "source": [
        "\n",
        "#**ANÁLISE GRÁFICA**\n",
        "\n",
        "**Análise isolada das variáveis em relação à variável-alvo**"
      ],
      "metadata": {
        "id": "ZFw9e3t-Chdl"
      }
    },
    {
      "cell_type": "code",
      "source": [
        "\n",
        "df_gender_exited = df_churn.loc[(df_churn.Exited == 1), ['Gender', 'Exited']]\n",
        "df_geography_exited = df_churn.loc[(df_churn.Exited == 1), ['Geography', 'Exited']]\n",
        "df_age_exited = df_churn.loc[(df_churn.Exited == 1), ['Age', 'Exited']]\n",
        "df_creditscore_exited = df_churn.loc[(df_churn.Exited == 1), ['CreditScore', 'Exited']]\n",
        "df_tenure_exited = df_churn.loc[(df_churn.Exited == 1), ['Tenure', 'Exited']]\n",
        "df_balance_exited = df_churn.loc[(df_churn.Exited == 1), ['Balance', 'Exited']]\n",
        "df_numofproducts_exited = df_churn.loc[(df_churn.Exited == 1), ['NumOfProducts', 'Exited']]\n",
        "df_hascrcard_exited = df_churn.loc[(df_churn.Exited == 1), ['HasCrCard', 'Exited']]\n",
        "df_isactivemember_exited = df_churn.loc[(df_churn.Exited == 1), ['IsActiveMember', 'Exited']]\n",
        "df_estimatedsalary_exited =df_churn.loc[(df_churn.Exited == 1), ['EstimatedSalary', 'Exited']]"
      ],
      "metadata": {
        "id": "wFA-5GbGFXbN"
      },
      "execution_count": 20,
      "outputs": []
    },
    {
      "cell_type": "markdown",
      "source": [
        "**CreditScore**"
      ],
      "metadata": {
        "id": "k08f-fjMDZfS"
      }
    },
    {
      "cell_type": "code",
      "source": [
        "sns.displot(\n",
        "    data=df_creditscore_exited, x='CreditScore', color='grey', kde=True).despine(\n",
        "        bottom=True, left=True, right=True, top=True).set(\n",
        "            ylabel=('Counts_Churn'), xlabel=('CreditScore'), title=('Churn x CreditScore')).figure.set_size_inches(10, 6)"
      ],
      "metadata": {
        "colab": {
          "base_uri": "https://localhost:8080/",
          "height": 447
        },
        "id": "-X4E_yA4Dise",
        "outputId": "f0ebfa2c-5df9-4ac0-d0ed-83ad3c2918d3"
      },
      "execution_count": 21,
      "outputs": [
        {
          "output_type": "display_data",
          "data": {
            "text/plain": [
              "<Figure size 720x432 with 1 Axes>"
            ],
            "image/png": "[encoded data removed]"
          },
          "metadata": {
            "needs_background": "light"
          }
        }
      ]
    },
    {
      "cell_type": "code",
      "source": [
        "sns.boxplot(\n",
        "        data=df_churn\n",
        "        , x='Exited'\n",
        "        , y='CreditScore'\n",
        "        , fliersize=5\n",
        "        , width = 0.8\n",
        "        , linewidth=2\n",
        "        , palette=sns.color_palette(['lightgrey'])).figure.set_size_inches(10, 6)"
      ],
      "metadata": {
        "colab": {
          "base_uri": "https://localhost:8080/",
          "height": 388
        },
        "id": "7XLXMh1oHInA",
        "outputId": "67c2f070-1191-4554-f051-7d677dde475c"
      },
      "execution_count": 22,
      "outputs": [
        {
          "output_type": "display_data",
          "data": {
            "text/plain": [
              "<Figure size 720x432 with 1 Axes>"
            ],
            "image/png": "[encoded data removed]"
          },
          "metadata": {
            "needs_background": "light"
          }
        }
      ]
    },
    {
      "cell_type": "markdown",
      "source": [
        "Verifica-se, a partir da leitura dos gráficos, maior concentração de clientes evadidos com creditscore entre 600 e 650."
      ],
      "metadata": {
        "id": "fDxNcs4bIc5H"
      }
    },
    {
      "cell_type": "markdown",
      "source": [
        "**Age**"
      ],
      "metadata": {
        "id": "VBc6tkd5IqjL"
      }
    },
    {
      "cell_type": "code",
      "source": [
        "sns.displot(\n",
        "    data=df_age_exited, x='Age', color='grey', kde=True).despine(\n",
        "        bottom=True, left=True, right=True, top=True).set(\n",
        "            ylabel=('Counts_Churn'), xlabel=('Age'), title=('Churn x Age')).figure.set_size_inches(10, 6)"
      ],
      "metadata": {
        "colab": {
          "base_uri": "https://localhost:8080/",
          "height": 447
        },
        "id": "7MFERcSeI_su",
        "outputId": "5d02fdec-6dd2-4dea-a7ca-aeedbd8fa3c0"
      },
      "execution_count": 23,
      "outputs": [
        {
          "output_type": "display_data",
          "data": {
            "text/plain": [
              "<Figure size 720x432 with 1 Axes>"
            ],
            "image/png": "[encoded data removed]"
          },
          "metadata": {
            "needs_background": "light"
          }
        }
      ]
    },
    {
      "cell_type": "code",
      "source": [
        "sns.boxplot(data=df_churn, x='Exited', y='Age', fliersize=5, width=0.8, linewidth=2, color='lightgrey').figure.set_size_inches(10, 6)"
      ],
      "metadata": {
        "colab": {
          "base_uri": "https://localhost:8080/",
          "height": 388
        },
        "id": "Iut--oH2JXkm",
        "outputId": "8ccb973a-a1b4-4b0b-e6c1-6c8a4290ad5a"
      },
      "execution_count": 24,
      "outputs": [
        {
          "output_type": "display_data",
          "data": {
            "text/plain": [
              "<Figure size 720x432 with 1 Axes>"
            ],
            "image/png": "[encoded data removed]"
          },
          "metadata": {
            "needs_background": "light"
          }
        }
      ]
    },
    {
      "cell_type": "markdown",
      "source": [
        "Identifica-se maior probabilidade de evasão para clientes com idades entre 40 e 50 anos."
      ],
      "metadata": {
        "id": "JNeK5I8-JmB1"
      }
    },
    {
      "cell_type": "markdown",
      "source": [
        "**Tenure**"
      ],
      "metadata": {
        "id": "I94YuOJSJy-N"
      }
    },
    {
      "cell_type": "code",
      "source": [
        "sns.displot(\n",
        "    data=df_tenure_exited, x='Tenure', color='grey', kde=True).despine(\n",
        "        bottom=True, left=True, right=True, top=True).set(\n",
        "            ylabel=('Counts_Churn'), xlabel=('Tenure'), title=('Churn x Tenure')).figure.set_size_inches(10, 6)"
      ],
      "metadata": {
        "colab": {
          "base_uri": "https://localhost:8080/",
          "height": 447
        },
        "id": "6BZ_UjNVJ86Y",
        "outputId": "1b15b618-7400-4fc5-fccb-420c0ca991a4"
      },
      "execution_count": 25,
      "outputs": [
        {
          "output_type": "display_data",
          "data": {
            "text/plain": [
              "<Figure size 720x432 with 1 Axes>"
            ],
            "image/png": "[encoded data removed]"
          },
          "metadata": {
            "needs_background": "light"
          }
        }
      ]
    },
    {
      "cell_type": "code",
      "source": [
        "sns.boxplot(data=df_churn, x='Exited', y='Tenure', fliersize=5, width=0.8, linewidth=2, color='lightgrey').figure.set_size_inches(10, 6)"
      ],
      "metadata": {
        "colab": {
          "base_uri": "https://localhost:8080/",
          "height": 388
        },
        "id": "6S76b7OAK1FO",
        "outputId": "38380b58-5a78-4379-a63e-02958116aca3"
      },
      "execution_count": 26,
      "outputs": [
        {
          "output_type": "display_data",
          "data": {
            "text/plain": [
              "<Figure size 720x432 with 1 Axes>"
            ],
            "image/png": "[encoded data removed]"
          },
          "metadata": {
            "needs_background": "light"
          }
        }
      ]
    },
    {
      "cell_type": "markdown",
      "source": [
        "Nenhum padrão identificado que permita inferir mensurar a probabilidade de evasão em função da estabilidade de renda do cliente."
      ],
      "metadata": {
        "id": "3Yxx1QejLioT"
      }
    },
    {
      "cell_type": "markdown",
      "source": [
        "**Balance**"
      ],
      "metadata": {
        "id": "_cqwUknCMDag"
      }
    },
    {
      "cell_type": "code",
      "source": [
        "sns.displot(\n",
        "    data=df_balance_exited, x='Balance', color='grey', kde=True).despine(\n",
        "        bottom=True, left=True, right=True, top=True).set(\n",
        "            ylabel=('Counts_Churn'), xlabel=('Balance'), title=('Churn x Balance')).figure.set_size_inches(10, 6)"
      ],
      "metadata": {
        "colab": {
          "base_uri": "https://localhost:8080/",
          "height": 447
        },
        "id": "SpEWU4rlMLVG",
        "outputId": "9af9eb5b-993b-442b-ffd6-9a270598f914"
      },
      "execution_count": 27,
      "outputs": [
        {
          "output_type": "display_data",
          "data": {
            "text/plain": [
              "<Figure size 720x432 with 1 Axes>"
            ],
            "image/png": "[encoded data removed]"
          },
          "metadata": {
            "needs_background": "light"
          }
        }
      ]
    },
    {
      "cell_type": "code",
      "source": [
        "sns.boxplot(\n",
        "        data=df_churn\n",
        "        , x='Exited'\n",
        "        , y='Balance'\n",
        "        , fliersize=5\n",
        "        , width = 0.8\n",
        "        , linewidth=2\n",
        "        , palette=sns.color_palette(['lightgrey'])).figure.set_size_inches(10, 6)"
      ],
      "metadata": {
        "colab": {
          "base_uri": "https://localhost:8080/",
          "height": 388
        },
        "id": "QCKF4jONMpWW",
        "outputId": "d83cc328-b9bc-4bf8-a5fa-f60d8e9424b6"
      },
      "execution_count": 28,
      "outputs": [
        {
          "output_type": "display_data",
          "data": {
            "text/plain": [
              "<Figure size 720x432 with 1 Axes>"
            ],
            "image/png": "[encoded data removed]"
          },
          "metadata": {
            "needs_background": "light"
          }
        }
      ]
    },
    {
      "cell_type": "markdown",
      "source": [
        "Verifica-se alta evasão de clientes com saldo \\$ 12.000,00 (doze mil), mas também há um padrão de concentração de saída para clientes com saldo entre \\$ 100.000,00 (cem mil) e \\$ 140.000,00 (cento e quarenta mil)."
      ],
      "metadata": {
        "id": "xLQc-srFNB4h"
      }
    },
    {
      "cell_type": "markdown",
      "source": [
        "**NumOfProducts**"
      ],
      "metadata": {
        "id": "NkEtA0vMOtU6"
      }
    },
    {
      "cell_type": "code",
      "source": [
        "sns.displot(\n",
        "    data=df_numofproducts_exited, x='NumOfProducts', color='grey', kde=True).despine(\n",
        "        bottom=True, left=True, right=True, top=True).set(\n",
        "            ylabel=('Counts_Churn'), xlabel=('NumOfProducts'), title=('Churn x NumOfProducts')).figure.set_size_inches(10, 6)"
      ],
      "metadata": {
        "colab": {
          "base_uri": "https://localhost:8080/",
          "height": 447
        },
        "id": "Zg2VIVK1PD2l",
        "outputId": "e87ee1ff-c17a-44f5-99c0-02aaf159c3ed"
      },
      "execution_count": 29,
      "outputs": [
        {
          "output_type": "display_data",
          "data": {
            "text/plain": [
              "<Figure size 720x432 with 1 Axes>"
            ],
            "image/png": "[encoded data removed]"
          },
          "metadata": {
            "needs_background": "light"
          }
        }
      ]
    },
    {
      "cell_type": "code",
      "source": [
        "sns.boxplot(\n",
        "        data=df_churn\n",
        "        , x='Exited'\n",
        "        , y='NumOfProducts'\n",
        "        , fliersize=5\n",
        "        , width = 0.8\n",
        "        , linewidth=2\n",
        "        , palette=sns.color_palette(['lightgrey'])).figure.set_size_inches(10, 6)"
      ],
      "metadata": {
        "colab": {
          "base_uri": "https://localhost:8080/",
          "height": 388
        },
        "id": "bj2_dQWpPmUh",
        "outputId": "46ec12aa-1631-42ef-b32d-488a4be228dd"
      },
      "execution_count": 30,
      "outputs": [
        {
          "output_type": "display_data",
          "data": {
            "text/plain": [
              "<Figure size 720x432 with 1 Axes>"
            ],
            "image/png": "[encoded data removed]"
          },
          "metadata": {
            "needs_background": "light"
          }
        }
      ]
    },
    {
      "cell_type": "markdown",
      "source": [
        "Percebe-se, através da visualização do histograma, que há uma concentração de saída de clientes com um ou nenhum produto."
      ],
      "metadata": {
        "id": "3tmyu2cGQUzq"
      }
    },
    {
      "cell_type": "markdown",
      "source": [
        "**EstimatedSalary**"
      ],
      "metadata": {
        "id": "hPC4FpwFQumv"
      }
    },
    {
      "cell_type": "code",
      "source": [
        "sns.displot(\n",
        "    data=df_estimatedsalary_exited, x='EstimatedSalary', color='grey', kde=True).despine(\n",
        "        bottom=True, left=True, right=True, top=True).set(\n",
        "            ylabel=('Counts_Churn'), xlabel=('EstimatedSalary'), title=('Churn x EstimatedSalary')).figure.set_size_inches(10, 6)"
      ],
      "metadata": {
        "colab": {
          "base_uri": "https://localhost:8080/",
          "height": 447
        },
        "id": "XftU8t10Q9_t",
        "outputId": "398e640c-d41b-4d38-adb5-b87b4ccba7c1"
      },
      "execution_count": 31,
      "outputs": [
        {
          "output_type": "display_data",
          "data": {
            "text/plain": [
              "<Figure size 720x432 with 1 Axes>"
            ],
            "image/png": "[encoded data removed]"
          },
          "metadata": {
            "needs_background": "light"
          }
        }
      ]
    },
    {
      "cell_type": "code",
      "source": [
        "sns.boxplot(\n",
        "        data=df_churn\n",
        "        , x='Exited'\n",
        "        , y='EstimatedSalary'\n",
        "        , fliersize=5\n",
        "        , width = 0.8\n",
        "        , linewidth=2\n",
        "        , palette=sns.color_palette(['lightgrey'])).figure.set_size_inches(10, 6)"
      ],
      "metadata": {
        "colab": {
          "base_uri": "https://localhost:8080/",
          "height": 388
        },
        "id": "KzXPRLkPRPaC",
        "outputId": "00557df0-f6a9-4e23-c052-3fcc0094d75b"
      },
      "execution_count": 32,
      "outputs": [
        {
          "output_type": "display_data",
          "data": {
            "text/plain": [
              "<Figure size 720x432 with 1 Axes>"
            ],
            "image/png": "[encoded data removed]"
          },
          "metadata": {
            "needs_background": "light"
          }
        }
      ]
    },
    {
      "cell_type": "markdown",
      "source": [
        "Nenhum padrão identificado que permita inferir mensurar a probabilidade de evasão em função do salário estimado do cliente."
      ],
      "metadata": {
        "id": "E4wRDyUURg9X"
      }
    },
    {
      "cell_type": "markdown",
      "source": [
        "**Geography**"
      ],
      "metadata": {
        "id": "zirkGnncRnk1"
      }
    },
    {
      "cell_type": "code",
      "source": [
        "sns.displot(\n",
        "    data=df_churn_quali, x='Geography', color='grey').despine(\n",
        "        bottom=True, left=True, right=True, top=True).set(\n",
        "            ylabel=('Counts_CustomerId'), xlabel=('Geography'), title=('CustomerId x Geography')).figure.set_size_inches(10, 6)"
      ],
      "metadata": {
        "colab": {
          "base_uri": "https://localhost:8080/",
          "height": 447
        },
        "id": "6yUs4txWU3fj",
        "outputId": "28a322c1-43f0-40a5-b0c6-fccd7ca5fe17"
      },
      "execution_count": 33,
      "outputs": [
        {
          "output_type": "display_data",
          "data": {
            "text/plain": [
              "<Figure size 720x432 with 1 Axes>"
            ],
            "image/png": "[encoded data removed]"
          },
          "metadata": {
            "needs_background": "light"
          }
        }
      ]
    },
    {
      "cell_type": "code",
      "source": [
        "sns.displot(\n",
        "    data=df_geography_exited, x='Geography', color='lightgrey').despine(\n",
        "        bottom=True, left=True, right=True, top=True).set(\n",
        "            ylabel=('Counts_Churn'), xlabel=('Geography'), title=('Churn x Geography')).figure.set_size_inches(10, 6)"
      ],
      "metadata": {
        "colab": {
          "base_uri": "https://localhost:8080/",
          "height": 447
        },
        "id": "6eUHM4uxVmQ_",
        "outputId": "766840e0-1e24-4da5-b192-b407c1ac58de"
      },
      "execution_count": 34,
      "outputs": [
        {
          "output_type": "display_data",
          "data": {
            "text/plain": [
              "<Figure size 720x432 with 1 Axes>"
            ],
            "image/png": "[encoded data removed]"
          },
          "metadata": {
            "needs_background": "light"
          }
        }
      ]
    },
    {
      "cell_type": "markdown",
      "source": [
        "Percebe-se uma maior probabilidade de evasão de clientes alemães."
      ],
      "metadata": {
        "id": "tSqQUzheV0fd"
      }
    },
    {
      "cell_type": "markdown",
      "source": [
        "**Gender**"
      ],
      "metadata": {
        "id": "R233czBiV62w"
      }
    },
    {
      "cell_type": "code",
      "source": [
        "sns.displot(\n",
        "    data=df_churn_quali, x='Gender', color='grey').despine(\n",
        "        bottom=True, left=True, right=True, top=True).set(\n",
        "            ylabel=('Counts_CustomerId'), xlabel=('Gender'), title=('CustomerId x Gender')).figure.set_size_inches(10, 6)"
      ],
      "metadata": {
        "colab": {
          "base_uri": "https://localhost:8080/",
          "height": 447
        },
        "id": "IlAwOgtVWgyk",
        "outputId": "186325f0-7222-4348-f252-2e0c5bd57573"
      },
      "execution_count": 35,
      "outputs": [
        {
          "output_type": "display_data",
          "data": {
            "text/plain": [
              "<Figure size 720x432 with 1 Axes>"
            ],
            "image/png": "[encoded data removed]"
          },
          "metadata": {
            "needs_background": "light"
          }
        }
      ]
    },
    {
      "cell_type": "code",
      "source": [
        "sns.displot(\n",
        "    data=df_gender_exited, x='Gender', color='lightgrey').despine(\n",
        "        bottom=True, left=True, right=True, top=True).set(\n",
        "            ylabel=('Counts_Churn'), xlabel=('Gender'), title=('Churn x Gender')).figure.set_size_inches(10, 6)"
      ],
      "metadata": {
        "colab": {
          "base_uri": "https://localhost:8080/",
          "height": 447
        },
        "id": "PjyeUn0qWGyf",
        "outputId": "645cd253-23c7-4c20-d5e2-1dc9ddc6f0ce"
      },
      "execution_count": 36,
      "outputs": [
        {
          "output_type": "display_data",
          "data": {
            "text/plain": [
              "<Figure size 720x432 with 1 Axes>"
            ],
            "image/png": "[encoded data removed]"
          },
          "metadata": {
            "needs_background": "light"
          }
        }
      ]
    },
    {
      "cell_type": "markdown",
      "source": [
        "Verifica-se uma maior probabilidade de evasão de mulheres."
      ],
      "metadata": {
        "id": "E3j32d2jWs85"
      }
    },
    {
      "cell_type": "markdown",
      "source": [
        "**HasCrCard**"
      ],
      "metadata": {
        "id": "eHlUNL6qW1E0"
      }
    },
    {
      "cell_type": "code",
      "source": [
        "sns.displot(\n",
        "    data=df_churn_quali, x='HasCrCard', color='grey', discrete=True).despine(\n",
        "        bottom=True, left=True, right=True, top=True).set(\n",
        "            ylabel=('Counts_CustomerId'), xlabel=('HasCrCard'), title=('CustomerId x HasCrCard')).figure.set_size_inches(10, 6)"
      ],
      "metadata": {
        "colab": {
          "base_uri": "https://localhost:8080/",
          "height": 447
        },
        "id": "S_F6jFB3W-9y",
        "outputId": "a7f176e2-2ee9-4770-9744-913caa2ea05b"
      },
      "execution_count": 37,
      "outputs": [
        {
          "output_type": "display_data",
          "data": {
            "text/plain": [
              "<Figure size 720x432 with 1 Axes>"
            ],
            "image/png": "[encoded data removed]"
          },
          "metadata": {
            "needs_background": "light"
          }
        }
      ]
    },
    {
      "cell_type": "code",
      "source": [
        "sns.displot(\n",
        "    data=df_hascrcard_exited, x='HasCrCard', color='lightgrey', discrete=True).despine(\n",
        "        bottom=True, left=True, right=True, top=True).set(\n",
        "            ylabel=('Counts_Churn'), xlabel=('HasCrCard'), title=('Churn x HasCrCard')).figure.set_size_inches(10, 6)"
      ],
      "metadata": {
        "colab": {
          "base_uri": "https://localhost:8080/",
          "height": 447
        },
        "id": "WrUNKJPmXKwd",
        "outputId": "2d02cc3d-ff14-4981-ee3c-0438d94661f1"
      },
      "execution_count": 38,
      "outputs": [
        {
          "output_type": "display_data",
          "data": {
            "text/plain": [
              "<Figure size 720x432 with 1 Axes>"
            ],
            "image/png": "[encoded data removed]"
          },
          "metadata": {
            "needs_background": "light"
          }
        }
      ]
    },
    {
      "cell_type": "markdown",
      "source": [
        "O alto índice de evasão de clientes com cartão justifica-se pelo elevado número de clientes totais comn cartão, logo não é possível afirmar que há uma tenbdência de evasão de clientes que possuem cartão."
      ],
      "metadata": {
        "id": "qj9lm3OAXdTt"
      }
    },
    {
      "cell_type": "markdown",
      "source": [
        "**IsActiveMember**"
      ],
      "metadata": {
        "id": "SmBBE7WSX7sC"
      }
    },
    {
      "cell_type": "code",
      "source": [
        "sns.displot(\n",
        "    data=df_churn_quali, x='IsActiveMember', color='grey', discrete=True).despine(\n",
        "        bottom=True, left=True, right=True, top=True).set(\n",
        "            ylabel=('Counts_CustomerId'), xlabel=('IsActiveMember'), title=('CustomerId x IsActiveMember')).figure.set_size_inches(10, 6)"
      ],
      "metadata": {
        "colab": {
          "base_uri": "https://localhost:8080/",
          "height": 447
        },
        "id": "faMoO9BlYEEg",
        "outputId": "1617432a-0a6e-44cd-baeb-f9ab1ea4db5f"
      },
      "execution_count": 39,
      "outputs": [
        {
          "output_type": "display_data",
          "data": {
            "text/plain": [
              "<Figure size 720x432 with 1 Axes>"
            ],
            "image/png": "[encoded data removed]"
          },
          "metadata": {
            "needs_background": "light"
          }
        }
      ]
    },
    {
      "cell_type": "code",
      "source": [
        "sns.displot(\n",
        "    data=df_isactivemember_exited, x='IsActiveMember', color='lightgrey', discrete=True).despine(\n",
        "        bottom=True, left=True, right=True, top=True).set(\n",
        "            ylabel=('Counts_Churn'), xlabel=('IsActiveMember'), title=('Churn x IsActiveMember')).figure.set_size_inches(10, 6)"
      ],
      "metadata": {
        "colab": {
          "base_uri": "https://localhost:8080/",
          "height": 447
        },
        "id": "UuQsO9ziYkml",
        "outputId": "793eac80-42ea-4943-8f58-2c6f6dbe4abd"
      },
      "execution_count": 40,
      "outputs": [
        {
          "output_type": "display_data",
          "data": {
            "text/plain": [
              "<Figure size 720x432 with 1 Axes>"
            ],
            "image/png": "[encoded data removed]"
          },
          "metadata": {
            "needs_background": "light"
          }
        }
      ]
    },
    {
      "cell_type": "markdown",
      "source": [
        "Identifica-se uma maior probabilidade de evasão de clientes não ativos."
      ],
      "metadata": {
        "id": "vzFR_nPKbuUF"
      }
    },
    {
      "cell_type": "markdown",
      "source": [
        "# **CONCLUSÃO**"
      ],
      "metadata": {
        "id": "054kPMUSb3db"
      }
    },
    {
      "cell_type": "markdown",
      "source": [
        "A partir das análises efetivadas é possível concluir que o perfil de cliente com maior probabilidade de evasão é a cliente mulher do sexo feminino, alemã, com credit score entre 600 e 650, idade entre 40 e 50 anos, saldo abaixo de \\$ 12.000,00 (doze mil), com um ou nenhum produto e membro não ativo."
      ],
      "metadata": {
        "id": "8VwlaqMTb9aw"
      }
    },
    {
      "cell_type": "markdown",
      "source": [],
      "metadata": {
        "id": "M-iSAcGGdheF"
      }
    }
  ]
}